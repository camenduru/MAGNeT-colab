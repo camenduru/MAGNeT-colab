{
  "cells": [
    {
      "cell_type": "markdown",
      "metadata": {
        "id": "view-in-github"
      },
      "source": [
        "[![Open In Colab](https://colab.research.google.com/assets/colab-badge.svg)](https://colab.research.google.com/github/camenduru/MAGNeT-colab/blob/main/MAGNeT_colab.ipynb)"
      ]
    },
    {
      "cell_type": "code",
      "execution_count": null,
      "metadata": {
        "id": "VjYy0F2gZIPR"
      },
      "outputs": [],
      "source": [
        "%cd /content\n",
        "!git clone -b magnet https://github.com/camenduru/audiocraft\n",
        "%cd /content/audiocraft\n",
        "\n",
        "!pip install -q torch==2.0.1+cu118 torchvision==0.15.2+cu118 torchaudio==2.0.2+cu118 torchtext==0.15.2 torchdata==0.6.1 --extra-index-url https://download.pytorch.org/whl/cu118 -U\n",
        "!pip install -q av julius omegaconf einops num2words flashy torchmetrics sentencepiece xformers==0.0.20\n",
        "!pip install -q .\n",
        "\n",
        "!apt -y install -qq aria2\n",
        "!aria2c --console-log-level=error -c -x 16 -s 16 -k 1M https://huggingface.co/facebook/audio-magnet-medium/resolve/main/state_dict.bin -d /content/audiocraft/audio-magnet-medium -o state_dict.bin\n",
        "!aria2c --console-log-level=error -c -x 16 -s 16 -k 1M https://huggingface.co/facebook/audio-magnet-medium/resolve/main/compression_state_dict.bin -d /content/audiocraft/audio-magnet-medium -o compression_state_dict.bin"
      ]
    },
    {
      "cell_type": "code",
      "execution_count": null,
      "metadata": {},
      "outputs": [],
      "source": [
        "%cd /content/audiocraft\n",
        "\n",
        "from audiocraft.models import MAGNeT\n",
        "model = MAGNeT.get_pretrained('/content/audiocraft/audio-magnet-medium')\n",
        "\n",
        "model.set_generation_params(\n",
        "    use_sampling=True,\n",
        "    top_k=0,\n",
        "    top_p=0.9,\n",
        "    temperature=3.0,\n",
        "    max_cfg_coef=10.0,\n",
        "    min_cfg_coef=1.0,\n",
        "    decoding_steps=[int(20 * model.lm.cfg.dataset.segment_duration // 10),  10, 10, 10],\n",
        "    span_arrangement='nonoverlap'\n",
        ")\n",
        "\n",
        "from audiocraft.utils.notebook import display_audio\n",
        "\n",
        "###### Text-to-music prompts - examples ######\n",
        "text = \"80s electronic track with melodic synthesizers, catchy beat and groovy bass\"\n",
        "# text = \"80s electronic track with melodic synthesizers, catchy beat and groovy bass. 170 bpm\"\n",
        "# text = \"Earthy tones, environmentally conscious, ukulele-infused, harmonic, breezy, easygoing, organic instrumentation, gentle grooves\"\n",
        "# text = \"Funky groove with electric piano playing blue chords rhythmically\"\n",
        "# text = \"Rock with saturated guitars, a heavy bass line and crazy drum break and fills.\"\n",
        "# text = \"A grand orchestral arrangement with thunderous percussion, epic brass fanfares, and soaring strings, creating a cinematic atmosphere fit for a heroic battle\"\n",
        "                   \n",
        "N_VARIATIONS = 3\n",
        "descriptions = [text for _ in range(N_VARIATIONS)]\n",
        "\n",
        "print(f\"text prompt: {text}\\n\")\n",
        "output = model.generate(descriptions=descriptions, progress=True, return_tokens=True)\n",
        "display_audio(output[0], sample_rate=model.compression_model.sample_rate)"
      ]
    },
    {
      "cell_type": "code",
      "execution_count": null,
      "metadata": {},
      "outputs": [],
      "source": [
        "from audiocraft.models import MAGNeT\n",
        "model = MAGNeT.get_pretrained('/content/audiocraft/audio-magnet-medium')\n",
        "\n",
        "model.set_generation_params(\n",
        "    use_sampling=True,\n",
        "    top_k=0,\n",
        "    top_p=0.8,\n",
        "    temperature=3.5,\n",
        "    max_cfg_coef=20.0,\n",
        "    min_cfg_coef=1.0,\n",
        "    decoding_steps=[int(20 * model.lm.cfg.dataset.segment_duration // 10),  10, 10, 10],\n",
        "    span_arrangement='nonoverlap'\n",
        ")\n",
        "\n",
        "from audiocraft.utils.notebook import display_audio\n",
        "               \n",
        "###### Text-to-audio prompts - examples ######\n",
        "text = \"Seagulls squawking as ocean waves crash while wind blows heavily into a microphone.\"\n",
        "# text = \"A toilet flushing as music is playing and a man is singing in the distance.\"\n",
        "\n",
        "N_VARIATIONS = 3\n",
        "descriptions = [text for _ in range(N_VARIATIONS)]\n",
        "\n",
        "print(f\"text prompt: {text}\\n\")\n",
        "output = model.generate(descriptions=descriptions, progress=True, return_tokens=True)\n",
        "display_audio(output[0], sample_rate=model.compression_model.sample_rate)"
      ]
    }
  ],
  "metadata": {
    "accelerator": "GPU",
    "colab": {
      "gpuType": "T4",
      "provenance": []
    },
    "kernelspec": {
      "display_name": "Python 3",
      "name": "python3"
    },
    "language_info": {
      "name": "python"
    }
  },
  "nbformat": 4,
  "nbformat_minor": 0
}
